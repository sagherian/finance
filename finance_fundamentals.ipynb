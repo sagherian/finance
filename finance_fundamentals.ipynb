{
 "cells": [
  {
   "cell_type": "code",
   "execution_count": 3,
   "id": "4bd60347",
   "metadata": {},
   "outputs": [],
   "source": [
    "import numpy as np\n",
    "import pandas as pd\n",
    "import yfinance as yf"
   ]
  },
  {
   "cell_type": "markdown",
   "id": "6423ad25",
   "metadata": {},
   "source": [
    "## Returns"
   ]
  },
  {
   "cell_type": "code",
   "execution_count": 42,
   "id": "33895ea3",
   "metadata": {},
   "outputs": [
    {
     "name": "stdout",
     "output_type": "stream",
     "text": [
      "Returns:\n",
      "        BLUE    ORANGE\n",
      "2 -0.023569 -0.048387\n",
      "3 -0.034483  0.050847\n",
      "4  0.023810  0.040323\n",
      "Compound returns:\n",
      " BLUE     -0.011494\n",
      "ORANGE    0.084034\n",
      "dtype: float64\n"
     ]
    }
   ],
   "source": [
    "\"\"\" Overview\n",
    "one period total return formula = (P_t+1 + dividend - P_t) / (P_t)\n",
    "1+R format = R is the percent return + 1 to simplify computation\n",
    "multiple time period = (1+R1) * (1+R2) ... - 1\n",
    "annualized return: compound growth at annual scale\n",
    "    ex. monthly return of 1% is (1.01)^12 - 1\n",
    "\n",
    "\"\"\"\n",
    "\n",
    "prices_a = [8.70, 8.91, 8.71]\n",
    "returns_a = np.array(prices_a[1:]) / np.array(prices_a[:-1]) - 1\n",
    "prices= pd.DataFrame({'BLUE':[8.7, 8.91, 8.7, 8.4, 8.6],\n",
    "                          'ORANGE':[11.9, 12.4, 11.8, 12.4, 12.9] })\n",
    "\n",
    "# two ways of calculating returns\n",
    "returns = prices/prices.shift() - 1\n",
    "returns = prices.pct_change()\n",
    "print('Returns:\\n',returns.tail(3))\n",
    "\n",
    "# compound returns np and pd versions\n",
    "compound = np.prod(returns+1) - 1\n",
    "compound = (returns+1).prod() - 1\n",
    "print('Compound returns:\\n',compound)\n",
    "\n",
    "# annualization\n",
    "monthly_ret = .02\n",
    "annualized_monthly_ret = (1 + monthly_ret)**12 - 1\n",
    "quarterly_ret = .03\n",
    "annualized_quarterly_ret = (1 + quarterly_ret)**4 - 1\n",
    "daily_ret = .001\n",
    "annualized_daily_ret = (1+daily_ret)**252 - 1"
   ]
  },
  {
   "cell_type": "markdown",
   "id": "221d8378",
   "metadata": {},
   "source": [
    "## Risk and volatility"
   ]
  },
  {
   "cell_type": "code",
   "execution_count": 25,
   "id": "8a108a93",
   "metadata": {},
   "outputs": [
    {
     "name": "stdout",
     "output_type": "stream",
     "text": [
      "[*********************100%***********************]  1 of 1 completed\n",
      "[*********************100%***********************]  1 of 1 completed\n",
      "[*********************100%***********************]  1 of 1 completed\n",
      "[*********************100%***********************]  1 of 1 completed\n"
     ]
    },
    {
     "data": {
      "text/html": [
       "<div>\n",
       "<style scoped>\n",
       "    .dataframe tbody tr th:only-of-type {\n",
       "        vertical-align: middle;\n",
       "    }\n",
       "\n",
       "    .dataframe tbody tr th {\n",
       "        vertical-align: top;\n",
       "    }\n",
       "\n",
       "    .dataframe thead th {\n",
       "        text-align: right;\n",
       "    }\n",
       "</style>\n",
       "<table border=\"1\" class=\"dataframe\">\n",
       "  <thead>\n",
       "    <tr style=\"text-align: right;\">\n",
       "      <th></th>\n",
       "      <th>dia</th>\n",
       "      <th>spy</th>\n",
       "      <th>iwm</th>\n",
       "      <th>qqq</th>\n",
       "    </tr>\n",
       "    <tr>\n",
       "      <th>Date</th>\n",
       "      <th></th>\n",
       "      <th></th>\n",
       "      <th></th>\n",
       "      <th></th>\n",
       "    </tr>\n",
       "  </thead>\n",
       "  <tbody>\n",
       "    <tr>\n",
       "      <th>2022-09-30</th>\n",
       "      <td>287.299988</td>\n",
       "      <td>357.179993</td>\n",
       "      <td>164.919998</td>\n",
       "      <td>267.260010</td>\n",
       "    </tr>\n",
       "    <tr>\n",
       "      <th>2022-10-03</th>\n",
       "      <td>294.790009</td>\n",
       "      <td>366.609985</td>\n",
       "      <td>169.289993</td>\n",
       "      <td>273.529999</td>\n",
       "    </tr>\n",
       "    <tr>\n",
       "      <th>2022-10-04</th>\n",
       "      <td>303.140015</td>\n",
       "      <td>377.970001</td>\n",
       "      <td>176.000000</td>\n",
       "      <td>282.130005</td>\n",
       "    </tr>\n",
       "  </tbody>\n",
       "</table>\n",
       "</div>"
      ],
      "text/plain": [
       "                   dia         spy         iwm         qqq\n",
       "Date                                                      \n",
       "2022-09-30  287.299988  357.179993  164.919998  267.260010\n",
       "2022-10-03  294.790009  366.609985  169.289993  273.529999\n",
       "2022-10-04  303.140015  377.970001  176.000000  282.130005"
      ]
     },
     "execution_count": 25,
     "metadata": {},
     "output_type": "execute_result"
    }
   ],
   "source": [
    "# download sp500, dow30 and russel2000\n",
    "spy = yf.download('SPY')\n",
    "dia = yf.download('DIA')\n",
    "iwm = yf.download('IWM')\n",
    "qqq = yf.download('QQQ')\n",
    "\n",
    "prices = pd.concat([dia['Close'], spy['Close'], iwm['Close'], qqq['Close']],axis=1).dropna()\n",
    "prices.columns = ['dia', 'spy', 'iwm', 'qqq']\n",
    "prices.tail(3)"
   ]
  },
  {
   "cell_type": "code",
   "execution_count": 28,
   "id": "a741fd5c",
   "metadata": {},
   "outputs": [
    {
     "name": "stdout",
     "output_type": "stream",
     "text": [
      "Volatility\n",
      " dia    0.011924\n",
      "spy    0.012391\n",
      "iwm    0.015306\n",
      "qqq    0.016736\n",
      "dtype: float64\n"
     ]
    }
   ],
   "source": [
    "# sharpe ratio: (returns - risk free rate) / volatility \n",
    "# measures excess risk adjusted returns\n",
    "returns = prices.pct_change().dropna()\n",
    "volatility = returns.std()\n",
    "print('Volatility\\n',volatility)"
   ]
  },
  {
   "cell_type": "code",
   "execution_count": 57,
   "id": "31d158b5",
   "metadata": {},
   "outputs": [
    {
     "name": "stdout",
     "output_type": "stream",
     "text": [
      "Average yearly returns:\n",
      " dia    0.059340\n",
      "spy    0.060807\n",
      "iwm    0.078186\n",
      "qqq    0.095910\n",
      "dtype: float64\n",
      "Vol of yearly returns:\n",
      " dia    0.150530\n",
      "spy    0.177677\n",
      "iwm    0.193642\n",
      "qqq    0.279193\n",
      "dtype: float64\n"
     ]
    }
   ],
   "source": [
    "worst_day_per_year = returns.groupby(returns.index.year).min()\n",
    "yearly_returns = (returns+1).groupby(returns.index.year).prod() - 1\n",
    "print('Average yearly returns:\\n',yearly_returns.mean())\n",
    "print('Vol of yearly returns:\\n',yearly_returns.std())\n"
   ]
  },
  {
   "cell_type": "code",
   "execution_count": 45,
   "id": "95d56aa9",
   "metadata": {},
   "outputs": [
    {
     "name": "stdout",
     "output_type": "stream",
     "text": [
      "Total returns in %:\n",
      " dia    293.953954\n",
      "spy    273.891305\n",
      "iwm    384.962406\n",
      "qqq    362.868173\n",
      "dtype: float64\n"
     ]
    }
   ],
   "source": [
    "total_returns = (returns+1).prod()\n",
    "print('Total returns in %:\\n',total_returns*100)"
   ]
  },
  {
   "cell_type": "code",
   "execution_count": 58,
   "id": "336f83ee",
   "metadata": {},
   "outputs": [
    {
     "data": {
      "text/plain": [
       "dia    0.051534\n",
       "spy    0.057682\n",
       "iwm    0.065768\n",
       "qqq    0.065923\n",
       "dtype: float64"
      ]
     },
     "execution_count": 58,
     "metadata": {},
     "output_type": "execute_result"
    }
   ],
   "source": [
    "# annualized monthly vol\n",
    "last_month = returns.tail(30)\n",
    "annualized_vol = last_month.std() * np.sqrt(12)\n",
    "annualized_vol"
   ]
  },
  {
   "cell_type": "code",
   "execution_count": 59,
   "id": "44dc2d45",
   "metadata": {},
   "outputs": [
    {
     "data": {
      "text/plain": [
       "dia    0.194911\n",
       "spy    0.173387\n",
       "iwm    0.248841\n",
       "qqq    0.236072\n",
       "dtype: float64"
      ]
     },
     "execution_count": 59,
     "metadata": {},
     "output_type": "execute_result"
    }
   ],
   "source": [
    "RISK_FREE_RATE = .03\n",
    "sharpe = (yearly_returns.mean() - RISK_FREE_RATE) / yearly_returns.std()\n",
    "sharpe"
   ]
  },
  {
   "cell_type": "code",
   "execution_count": null,
   "id": "3b2aa928",
   "metadata": {},
   "outputs": [],
   "source": []
  }
 ],
 "metadata": {
  "kernelspec": {
   "display_name": "Python 3",
   "language": "python",
   "name": "python3"
  },
  "language_info": {
   "codemirror_mode": {
    "name": "ipython",
    "version": 3
   },
   "file_extension": ".py",
   "mimetype": "text/x-python",
   "name": "python",
   "nbconvert_exporter": "python",
   "pygments_lexer": "ipython3",
   "version": "3.8.8"
  }
 },
 "nbformat": 4,
 "nbformat_minor": 5
}
